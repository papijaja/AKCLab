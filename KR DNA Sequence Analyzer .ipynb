{
 "cells": [
  {
   "cell_type": "code",
   "execution_count": null,
   "metadata": {},
   "outputs": [],
   "source": [
    "from Bio.Blast.Applications import NcbiblastpCommandline\n",
    "from Bio.Blast import NCBIXML\n",
    "from Bio.Seq import Seq\n",
    "from Bio.SeqRecord import SeqRecord\n",
    "from Bio import SeqIO\n",
    "from io import StringIO"
   ]
  },
  {
   "cell_type": "code",
   "execution_count": null,
   "metadata": {},
   "outputs": [],
   "source": [
    "proteinInput = input()"
   ]
  },
  {
   "cell_type": "code",
   "execution_count": null,
   "metadata": {},
   "outputs": [],
   "source": [
    "dnaInput = input()"
   ]
  },
  {
   "cell_type": "code",
   "execution_count": null,
   "metadata": {},
   "outputs": [],
   "source": [
    "#takes in inputs and creates fasta files\n",
    "seq1 = SeqRecord(Seq(proteinInput),\n",
    "                   id=\"seq1\")\n",
    "seq2 = SeqRecord(Seq(\"DEPIAVVGMACR\"),\n",
    "                   id=\"seq2\")\n",
    "seq3 = SeqRecord(Seq(dnaInput),\n",
    "                   id=\"seq3\")\n",
    "SeqIO.write(seq3, \"seq3.fasta\", \"fasta\")\n",
    "SeqIO.write(seq1, \"seq1.fasta\", \"fasta\")\n",
    "SeqIO.write(seq2, \"seq2.fasta\", \"fasta\")\n",
    "\n",
    "#runs pBLAST\n",
    "output = NcbiblastpCommandline(query=\"seq1.fasta\", subject=\"seq2.fasta\", outfmt=5)()[0]\n",
    "blast_result_record = NCBIXML.read(StringIO(output))\n",
    "\n",
    "#sets up DNA output\n",
    "inf = \"seq3.fasta\"\n",
    "objects = []\n",
    "for sequence in SeqIO.parse(inf, \"fasta\"):\n",
    "    objects.append(sequence)\n",
    "DNAsequence = objects[0]\n",
    "\n",
    "#prints DNA outputs\n",
    "print(\"CAUTION: bitscore (XX bits) under ~18 should be manually checked, may be false positive\")\n",
    "print(\"\")\n",
    "\n",
    "for alignment in blast_result_record.alignments:\n",
    "    for hsp in alignment.hsps:\n",
    "        print(hsp)\n",
    "        #for att in dir(hsp):\n",
    "            #print (att, getattr(hsp,att))\n",
    "        if hsp.sbjct_start == 1:\n",
    "            DNAstart = ((hsp.query_start)*3)-4\n",
    "            print(\"\")\n",
    "            print(\"The corresponding DNA sequence is:\")\n",
    "            DNAoutput = DNAsequence[DNAstart+1:DNAstart+37]\n",
    "            print(DNAoutput.seq)\n",
    "            \n",
    "        elif hsp.sbjct_start == 2:\n",
    "            DNAstart = ((hsp.query_start)*3)-7\n",
    "            print(\"\")\n",
    "            print(\"The corresponding DNA sequence is:\")\n",
    "            DNAoutput = DNAsequence[DNAstart+1:DNAstart+37]\n",
    "            print(DNAoutput.seq)\n",
    "            \n",
    "        else:\n",
    "            print(\"This alignment needs manual analysis!\")\n",
    "            print(\"DNA sequence cannot be automatically computed.\")\n",
    "        \n",
    "        print(\"\")"
   ]
  }
 ],
 "metadata": {
  "kernelspec": {
   "display_name": "Python 3",
   "language": "python",
   "name": "python3"
  },
  "language_info": {
   "codemirror_mode": {
    "name": "ipython",
    "version": 3
   },
   "file_extension": ".py",
   "mimetype": "text/x-python",
   "name": "python",
   "nbconvert_exporter": "python",
   "pygments_lexer": "ipython3",
   "version": "3.6.9"
  }
 },
 "nbformat": 4,
 "nbformat_minor": 2
}
